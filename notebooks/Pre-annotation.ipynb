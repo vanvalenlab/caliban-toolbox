{
 "cells": [
  {
   "cell_type": "markdown",
   "metadata": {},
   "source": [
    "# Data Prep for Crowd Annotation Pipeline\n",
    "\n",
    "1. Collect raw data \n",
    "2. Adjust contrast of images\n",
    "3. Chop up images into manageable pieces\n",
    "4. Make into montages\n",
    "5. Upload to Figure8\n",
    "\n",
    "Files are named by these scripts such that the code blocks can run back-to-back with minimal input. For this reason, it is recommended that users run through the whole pipeline before processing another set of images."
   ]
  },
  {
   "cell_type": "code",
   "execution_count": 1,
   "metadata": {},
   "outputs": [],
   "source": [
    "# import statements\n",
    "from __future__ import absolute_import\n",
    "\n",
    "import os\n",
    "\n",
    "from dcde.pre_annotation.montage_makers import montage_maker, multiple_montage_maker\n",
    "from dcde.pre_annotation.overlapping_chopper import overlapping_crop_dir\n",
    "from dcde.pre_annotation.aws_upload import aws_upload, upload\n",
    "from dcde.pre_annotation.montage_to_csv import csv_maker\n",
    "from dcde.pre_annotation.fig_eight_upload import fig_eight"
   ]
  },
  {
   "cell_type": "code",
   "execution_count": null,
   "metadata": {},
   "outputs": [],
   "source": [
    "#sometimes raw images are in .tif stacks, not individual .tif files\n",
    "#optional code block for turning into individual slices"
   ]
  },
  {
   "cell_type": "markdown",
   "metadata": {},
   "source": [
    "## 2. Adjust contrast of images\n",
    "description of contrast_adjustment.py"
   ]
  },
  {
   "cell_type": "code",
   "execution_count": null,
   "metadata": {},
   "outputs": [],
   "source": [
    "#contrast_adjustment"
   ]
  },
  {
   "cell_type": "markdown",
   "metadata": {},
   "source": [
    "## 3. Chop up images into manageable pieces\n",
    "\n",
    "Each full-size image usually has many cells in it. This makes them difficult to fully annotate! For ease of annotation (and better results), each frame is chopped up into smaller, overlapping frames, ultimately creating a set of movies. \n",
    "\n",
    "These smaller movies can be made with overlapping edges, making it easier to stitch annotations together into one large annotated movie (in the post-annotation pipeline). A large overlap will result in redundant annotations.\n",
    "\n",
    "Even if you want to process the full-sized image, run the chopper with num_segments of 1. The montage makers are written to run on the output of the chopper."
   ]
  },
  {
   "cell_type": "code",
   "execution_count": 4,
   "metadata": {},
   "outputs": [],
   "source": [
    "base_direc = \"/home/geneva/Desktop/Nb_testing/\"\n",
    "raw_direc = os.path.join(base_direc, \"MouseBrain_s7_nuclear\")\n",
    "identifier = \"MouseBrain_s7_nuc\"\n",
    "num_x_segments = 5\n",
    "num_y_segments = 5\n",
    "overlap_perc = 10"
   ]
  },
  {
   "cell_type": "code",
   "execution_count": 5,
   "metadata": {},
   "outputs": [
    {
     "name": "stdout",
     "output_type": "stream",
     "text": [
      "Current Image Size:  (1024, 1024)\n",
      "Correct? (y/n): y\n",
      "Your new images will be  244  pixels by  244  pixels big.\n",
      "Processing...\n",
      "Cropped files saved to /home/geneva/Desktop/Nb_testing/MouseBrain_s7_nuclear_chopped_5_5\n"
     ]
    }
   ],
   "source": [
    "overlapping_crop_dir(raw_direc, identifier, num_x_segments, num_y_segments, overlap_perc)"
   ]
  },
  {
   "cell_type": "markdown",
   "metadata": {},
   "source": [
    "## 4. Make into montages\n",
    "multiple_montage_maker is written to run on the output of the chopper, ie the folder where each chopped movie folder is saved. It will make montages of each subfolder according to the variables specified. It will make more than one montage per subfolder if there are enough frames to do so.\n",
    "\n",
    "The variables used in multiple_montage_maker are saved in a JSON file so they can be reused in post-annotation processing."
   ]
  },
  {
   "cell_type": "code",
   "execution_count": 3,
   "metadata": {
    "scrolled": true
   },
   "outputs": [],
   "source": [
    "montage_len = 15\n",
    "\n",
    "direc = raw_direc + \"_chopped_\" + str(num_x_segments) + \"_\" + str(num_y_segments)\n",
    "#direc = \"/home/geneva/Desktop/Nb_testing/nuclear_test_chopped_4_4\"\n",
    "\n",
    "save_direc = os.path.join(base_direc, identifier + \"_montages_\" + str(num_x_segments) + \"_\" + str(num_y_segments))\n",
    "#save_direc = \"/home/geneva/Desktop/Nb_testing/montages\"\n",
    "\n",
    "log_direc = os.path.join(base_direc, \"json_logs\")\n",
    "\n",
    "row_length = 5\n",
    "x_buffer = 5\n",
    "y_buffer = 5"
   ]
  },
  {
   "cell_type": "code",
   "execution_count": 4,
   "metadata": {
    "scrolled": true
   },
   "outputs": [
    {
     "name": "stdout",
     "output_type": "stream",
     "text": [
      "Now montaging images from: MouseBrain_s7_nuc_x_00_y_00\n",
      "You will be able to make 2 montages from this movie.\n",
      "The last 8 frames will not be used in a montage. \n",
      "\n",
      "Now montaging images from: MouseBrain_s7_nuc_x_01_y_00\n",
      "You will be able to make 2 montages from this movie.\n",
      "The last 8 frames will not be used in a montage. \n",
      "\n",
      "Now montaging images from: MouseBrain_s7_nuc_x_02_y_00\n",
      "You will be able to make 2 montages from this movie.\n",
      "The last 8 frames will not be used in a montage. \n",
      "\n",
      "Now montaging images from: MouseBrain_s7_nuc_x_03_y_00\n",
      "You will be able to make 2 montages from this movie.\n",
      "The last 8 frames will not be used in a montage. \n",
      "\n",
      "Now montaging images from: MouseBrain_s7_nuc_x_04_y_00\n",
      "You will be able to make 2 montages from this movie.\n",
      "The last 8 frames will not be used in a montage. \n",
      "\n",
      "Now montaging images from: MouseBrain_s7_nuc_x_00_y_01\n",
      "You will be able to make 2 montages from this movie.\n",
      "The last 8 frames will not be used in a montage. \n",
      "\n",
      "Now montaging images from: MouseBrain_s7_nuc_x_01_y_01\n",
      "You will be able to make 2 montages from this movie.\n",
      "The last 8 frames will not be used in a montage. \n",
      "\n",
      "Now montaging images from: MouseBrain_s7_nuc_x_02_y_01\n",
      "You will be able to make 2 montages from this movie.\n",
      "The last 8 frames will not be used in a montage. \n",
      "\n",
      "Now montaging images from: MouseBrain_s7_nuc_x_03_y_01\n",
      "You will be able to make 2 montages from this movie.\n",
      "The last 8 frames will not be used in a montage. \n",
      "\n",
      "Now montaging images from: MouseBrain_s7_nuc_x_04_y_01\n",
      "You will be able to make 2 montages from this movie.\n",
      "The last 8 frames will not be used in a montage. \n",
      "\n",
      "Now montaging images from: MouseBrain_s7_nuc_x_00_y_02\n",
      "You will be able to make 2 montages from this movie.\n",
      "The last 8 frames will not be used in a montage. \n",
      "\n",
      "Now montaging images from: MouseBrain_s7_nuc_x_01_y_02\n",
      "You will be able to make 2 montages from this movie.\n",
      "The last 8 frames will not be used in a montage. \n",
      "\n",
      "Now montaging images from: MouseBrain_s7_nuc_x_02_y_02\n",
      "You will be able to make 2 montages from this movie.\n",
      "The last 8 frames will not be used in a montage. \n",
      "\n",
      "Now montaging images from: MouseBrain_s7_nuc_x_03_y_02\n",
      "You will be able to make 2 montages from this movie.\n",
      "The last 8 frames will not be used in a montage. \n",
      "\n",
      "Now montaging images from: MouseBrain_s7_nuc_x_04_y_02\n",
      "You will be able to make 2 montages from this movie.\n",
      "The last 8 frames will not be used in a montage. \n",
      "\n",
      "Now montaging images from: MouseBrain_s7_nuc_x_00_y_03\n",
      "You will be able to make 2 montages from this movie.\n",
      "The last 8 frames will not be used in a montage. \n",
      "\n",
      "Now montaging images from: MouseBrain_s7_nuc_x_01_y_03\n",
      "You will be able to make 2 montages from this movie.\n",
      "The last 8 frames will not be used in a montage. \n",
      "\n",
      "Now montaging images from: MouseBrain_s7_nuc_x_02_y_03\n",
      "You will be able to make 2 montages from this movie.\n",
      "The last 8 frames will not be used in a montage. \n",
      "\n",
      "Now montaging images from: MouseBrain_s7_nuc_x_03_y_03\n",
      "You will be able to make 2 montages from this movie.\n",
      "The last 8 frames will not be used in a montage. \n",
      "\n",
      "Now montaging images from: MouseBrain_s7_nuc_x_04_y_03\n",
      "You will be able to make 2 montages from this movie.\n",
      "The last 8 frames will not be used in a montage. \n",
      "\n",
      "Now montaging images from: MouseBrain_s7_nuc_x_00_y_04\n",
      "You will be able to make 2 montages from this movie.\n",
      "The last 8 frames will not be used in a montage. \n",
      "\n",
      "Now montaging images from: MouseBrain_s7_nuc_x_01_y_04\n",
      "You will be able to make 2 montages from this movie.\n",
      "The last 8 frames will not be used in a montage. \n",
      "\n",
      "Now montaging images from: MouseBrain_s7_nuc_x_02_y_04\n",
      "You will be able to make 2 montages from this movie.\n",
      "The last 8 frames will not be used in a montage. \n",
      "\n",
      "Now montaging images from: MouseBrain_s7_nuc_x_03_y_04\n",
      "You will be able to make 2 montages from this movie.\n",
      "The last 8 frames will not be used in a montage. \n",
      "\n",
      "Now montaging images from: MouseBrain_s7_nuc_x_04_y_04\n",
      "You will be able to make 2 montages from this movie.\n",
      "The last 8 frames will not be used in a montage. \n",
      "\n"
     ]
    }
   ],
   "source": [
    "multiple_montage_maker(montage_len, direc, save_direc, identifier, \n",
    "                       num_x_segments, num_y_segments, row_length, x_buffer, y_buffer, log_direc)"
   ]
  },
  {
   "cell_type": "markdown",
   "metadata": {},
   "source": [
    "## 5. Upload to Figure Eight\n",
    "Now that the images are processed into montages, they need to be uploaded to an AWS bucket and submitted to Figure Eight. This involves uploading the files to AWS, making a CSV file with the links to the uploaded images, and using that CSV file to create a Figure Eight job."
   ]
  },
  {
   "cell_type": "markdown",
   "metadata": {},
   "source": [
    "### Upload files to AWS\n",
    "aws_upload will look for image files in the specified directory (folder_to_upload, set by default to be wherever the output of multiple_montage_maker was saved) and upload them into a bucket.\n",
    "\n",
    "For the Van Valen lab, the default bucket is \"figure-eight-deepcell\" and keys (aws_folder + file names) correspond to the file structure of our data server.\n",
    "\n",
    "aws_upload returns a list of the urls to which images were uploaded."
   ]
  },
  {
   "cell_type": "code",
   "execution_count": 7,
   "metadata": {
    "scrolled": true
   },
   "outputs": [
    {
     "name": "stdout",
     "output_type": "stream",
     "text": [
      "What is your AWS access key id? ········\n",
      "What is your AWS secret access key id? ········\n",
      "Connected to AWS\n",
      "/home/geneva/Desktop/Files_to_work_through/Data_for_crowd/MouseBrain_s7_nuc_montages_5_5/MouseBrain_s7_nuc_x_0_y_0_montage_0.png  849622 / 849622.0  (100.00%)\n",
      "\n",
      "/home/geneva/Desktop/Files_to_work_through/Data_for_crowd/MouseBrain_s7_nuc_montages_5_5/MouseBrain_s7_nuc_x_0_y_0_montage_1.png  890794 / 890794.0  (100.00%)\n",
      "\n",
      "/home/geneva/Desktop/Files_to_work_through/Data_for_crowd/MouseBrain_s7_nuc_montages_5_5/MouseBrain_s7_nuc_x_0_y_1_montage_0.png  967973 / 967973.0  (100.00%)\n",
      "\n",
      "/home/geneva/Desktop/Files_to_work_through/Data_for_crowd/MouseBrain_s7_nuc_montages_5_5/MouseBrain_s7_nuc_x_0_y_1_montage_1.png  975484 / 975484.0  (100.00%)\n",
      "\n",
      "/home/geneva/Desktop/Files_to_work_through/Data_for_crowd/MouseBrain_s7_nuc_montages_5_5/MouseBrain_s7_nuc_x_0_y_2_montage_0.png  969750 / 969750.0  (100.00%)\n",
      "\n",
      "/home/geneva/Desktop/Files_to_work_through/Data_for_crowd/MouseBrain_s7_nuc_montages_5_5/MouseBrain_s7_nuc_x_0_y_2_montage_1.png  865454 / 865454.0  (100.00%)\n",
      "\n",
      "/home/geneva/Desktop/Files_to_work_through/Data_for_crowd/MouseBrain_s7_nuc_montages_5_5/MouseBrain_s7_nuc_x_0_y_3_montage_0.png  956657 / 956657.0  (100.00%)\n",
      "\n",
      "/home/geneva/Desktop/Files_to_work_through/Data_for_crowd/MouseBrain_s7_nuc_montages_5_5/MouseBrain_s7_nuc_x_0_y_3_montage_1.png  996017 / 996017.0  (100.00%)\n",
      "\n",
      "/home/geneva/Desktop/Files_to_work_through/Data_for_crowd/MouseBrain_s7_nuc_montages_5_5/MouseBrain_s7_nuc_x_0_y_4_montage_0.png  765648 / 765648.0  (100.00%)\n",
      "\n",
      "/home/geneva/Desktop/Files_to_work_through/Data_for_crowd/MouseBrain_s7_nuc_montages_5_5/MouseBrain_s7_nuc_x_0_y_4_montage_1.png  886460 / 886460.0  (100.00%)\n",
      "\n",
      "/home/geneva/Desktop/Files_to_work_through/Data_for_crowd/MouseBrain_s7_nuc_montages_5_5/MouseBrain_s7_nuc_x_1_y_0_montage_0.png  914641 / 914641.0  (100.00%)\n",
      "\n",
      "/home/geneva/Desktop/Files_to_work_through/Data_for_crowd/MouseBrain_s7_nuc_montages_5_5/MouseBrain_s7_nuc_x_1_y_0_montage_1.png  1027899 / 1027899.0  (100.00%)\n",
      "\n",
      "/home/geneva/Desktop/Files_to_work_through/Data_for_crowd/MouseBrain_s7_nuc_montages_5_5/MouseBrain_s7_nuc_x_1_y_1_montage_0.png  1038100 / 1038100.0  (100.00%)\n",
      "\n",
      "/home/geneva/Desktop/Files_to_work_through/Data_for_crowd/MouseBrain_s7_nuc_montages_5_5/MouseBrain_s7_nuc_x_1_y_1_montage_1.png  1122465 / 1122465.0  (100.00%)\n",
      "\n",
      "/home/geneva/Desktop/Files_to_work_through/Data_for_crowd/MouseBrain_s7_nuc_montages_5_5/MouseBrain_s7_nuc_x_1_y_2_montage_0.png  1046067 / 1046067.0  (100.00%)\n",
      "\n",
      "/home/geneva/Desktop/Files_to_work_through/Data_for_crowd/MouseBrain_s7_nuc_montages_5_5/MouseBrain_s7_nuc_x_1_y_2_montage_1.png  1081856 / 1081856.0  (100.00%)\n",
      "\n",
      "/home/geneva/Desktop/Files_to_work_through/Data_for_crowd/MouseBrain_s7_nuc_montages_5_5/MouseBrain_s7_nuc_x_1_y_3_montage_0.png  1019579 / 1019579.0  (100.00%)\n",
      "\n",
      "/home/geneva/Desktop/Files_to_work_through/Data_for_crowd/MouseBrain_s7_nuc_montages_5_5/MouseBrain_s7_nuc_x_1_y_3_montage_1.png  1068753 / 1068753.0  (100.00%)\n",
      "\n",
      "/home/geneva/Desktop/Files_to_work_through/Data_for_crowd/MouseBrain_s7_nuc_montages_5_5/MouseBrain_s7_nuc_x_1_y_4_montage_0.png  957394 / 957394.0  (100.00%)\n",
      "\n",
      "/home/geneva/Desktop/Files_to_work_through/Data_for_crowd/MouseBrain_s7_nuc_montages_5_5/MouseBrain_s7_nuc_x_1_y_4_montage_1.png  1015767 / 1015767.0  (100.00%)\n",
      "\n",
      "/home/geneva/Desktop/Files_to_work_through/Data_for_crowd/MouseBrain_s7_nuc_montages_5_5/MouseBrain_s7_nuc_x_2_y_0_montage_0.png  999010 / 999010.0  (100.00%)\n",
      "\n",
      "/home/geneva/Desktop/Files_to_work_through/Data_for_crowd/MouseBrain_s7_nuc_montages_5_5/MouseBrain_s7_nuc_x_2_y_0_montage_1.png  1026237 / 1026237.0  (100.00%)\n",
      "\n",
      "/home/geneva/Desktop/Files_to_work_through/Data_for_crowd/MouseBrain_s7_nuc_montages_5_5/MouseBrain_s7_nuc_x_2_y_1_montage_0.png  1217236 / 1217236.0  (100.00%)\n",
      "\n",
      "/home/geneva/Desktop/Files_to_work_through/Data_for_crowd/MouseBrain_s7_nuc_montages_5_5/MouseBrain_s7_nuc_x_2_y_1_montage_1.png  1144954 / 1144954.0  (100.00%)\n",
      "\n",
      "/home/geneva/Desktop/Files_to_work_through/Data_for_crowd/MouseBrain_s7_nuc_montages_5_5/MouseBrain_s7_nuc_x_2_y_2_montage_0.png  1188155 / 1188155.0  (100.00%)\n",
      "\n",
      "/home/geneva/Desktop/Files_to_work_through/Data_for_crowd/MouseBrain_s7_nuc_montages_5_5/MouseBrain_s7_nuc_x_2_y_2_montage_1.png  1037526 / 1037526.0  (100.00%)\n",
      "\n",
      "/home/geneva/Desktop/Files_to_work_through/Data_for_crowd/MouseBrain_s7_nuc_montages_5_5/MouseBrain_s7_nuc_x_2_y_3_montage_0.png  1035295 / 1035295.0  (100.00%)\n",
      "\n",
      "/home/geneva/Desktop/Files_to_work_through/Data_for_crowd/MouseBrain_s7_nuc_montages_5_5/MouseBrain_s7_nuc_x_2_y_3_montage_1.png  1147187 / 1147187.0  (100.00%)\n",
      "\n",
      "/home/geneva/Desktop/Files_to_work_through/Data_for_crowd/MouseBrain_s7_nuc_montages_5_5/MouseBrain_s7_nuc_x_2_y_4_montage_0.png  910205 / 910205.0  (100.00%)\n",
      "\n",
      "/home/geneva/Desktop/Files_to_work_through/Data_for_crowd/MouseBrain_s7_nuc_montages_5_5/MouseBrain_s7_nuc_x_2_y_4_montage_1.png  884772 / 884772.0  (100.00%)\n",
      "\n",
      "/home/geneva/Desktop/Files_to_work_through/Data_for_crowd/MouseBrain_s7_nuc_montages_5_5/MouseBrain_s7_nuc_x_3_y_0_montage_0.png  789764 / 789764.0  (100.00%)\n",
      "\n",
      "/home/geneva/Desktop/Files_to_work_through/Data_for_crowd/MouseBrain_s7_nuc_montages_5_5/MouseBrain_s7_nuc_x_3_y_0_montage_1.png  848032 / 848032.0  (100.00%)\n",
      "\n",
      "/home/geneva/Desktop/Files_to_work_through/Data_for_crowd/MouseBrain_s7_nuc_montages_5_5/MouseBrain_s7_nuc_x_3_y_1_montage_0.png  994838 / 994838.0  (100.00%)\n",
      "\n",
      "/home/geneva/Desktop/Files_to_work_through/Data_for_crowd/MouseBrain_s7_nuc_montages_5_5/MouseBrain_s7_nuc_x_3_y_1_montage_1.png  892054 / 892054.0  (100.00%)\n",
      "\n",
      "/home/geneva/Desktop/Files_to_work_through/Data_for_crowd/MouseBrain_s7_nuc_montages_5_5/MouseBrain_s7_nuc_x_3_y_2_montage_0.png  941436 / 941436.0  (100.00%)\n",
      "\n",
      "/home/geneva/Desktop/Files_to_work_through/Data_for_crowd/MouseBrain_s7_nuc_montages_5_5/MouseBrain_s7_nuc_x_3_y_2_montage_1.png  942628 / 942628.0  (100.00%)\n",
      "\n",
      "/home/geneva/Desktop/Files_to_work_through/Data_for_crowd/MouseBrain_s7_nuc_montages_5_5/MouseBrain_s7_nuc_x_3_y_3_montage_0.png  913497 / 913497.0  (100.00%)\n",
      "\n",
      "/home/geneva/Desktop/Files_to_work_through/Data_for_crowd/MouseBrain_s7_nuc_montages_5_5/MouseBrain_s7_nuc_x_3_y_3_montage_1.png  919539 / 919539.0  (100.00%)\n",
      "\n",
      "/home/geneva/Desktop/Files_to_work_through/Data_for_crowd/MouseBrain_s7_nuc_montages_5_5/MouseBrain_s7_nuc_x_3_y_4_montage_0.png  887973 / 887973.0  (100.00%)\n",
      "\n",
      "/home/geneva/Desktop/Files_to_work_through/Data_for_crowd/MouseBrain_s7_nuc_montages_5_5/MouseBrain_s7_nuc_x_3_y_4_montage_1.png  751682 / 751682.0  (100.00%)\n",
      "\n",
      "/home/geneva/Desktop/Files_to_work_through/Data_for_crowd/MouseBrain_s7_nuc_montages_5_5/MouseBrain_s7_nuc_x_4_y_0_montage_0.png  656961 / 656961.0  (100.00%)\n",
      "\n",
      "/home/geneva/Desktop/Files_to_work_through/Data_for_crowd/MouseBrain_s7_nuc_montages_5_5/MouseBrain_s7_nuc_x_4_y_0_montage_1.png  726816 / 726816.0  (100.00%)\n",
      "\n",
      "/home/geneva/Desktop/Files_to_work_through/Data_for_crowd/MouseBrain_s7_nuc_montages_5_5/MouseBrain_s7_nuc_x_4_y_1_montage_0.png  771420 / 771420.0  (100.00%)\n",
      "\n",
      "/home/geneva/Desktop/Files_to_work_through/Data_for_crowd/MouseBrain_s7_nuc_montages_5_5/MouseBrain_s7_nuc_x_4_y_1_montage_1.png  794086 / 794086.0  (100.00%)\n",
      "\n",
      "/home/geneva/Desktop/Files_to_work_through/Data_for_crowd/MouseBrain_s7_nuc_montages_5_5/MouseBrain_s7_nuc_x_4_y_2_montage_0.png  669530 / 669530.0  (100.00%)\n",
      "\n",
      "/home/geneva/Desktop/Files_to_work_through/Data_for_crowd/MouseBrain_s7_nuc_montages_5_5/MouseBrain_s7_nuc_x_4_y_2_montage_1.png  740605 / 740605.0  (100.00%)\n",
      "\n",
      "/home/geneva/Desktop/Files_to_work_through/Data_for_crowd/MouseBrain_s7_nuc_montages_5_5/MouseBrain_s7_nuc_x_4_y_3_montage_0.png  735886 / 735886.0  (100.00%)\n",
      "\n",
      "/home/geneva/Desktop/Files_to_work_through/Data_for_crowd/MouseBrain_s7_nuc_montages_5_5/MouseBrain_s7_nuc_x_4_y_3_montage_1.png  853019 / 853019.0  (100.00%)\n",
      "\n",
      "/home/geneva/Desktop/Files_to_work_through/Data_for_crowd/MouseBrain_s7_nuc_montages_5_5/MouseBrain_s7_nuc_x_4_y_4_montage_0.png  695404 / 695404.0  (100.00%)\n",
      "\n",
      "/home/geneva/Desktop/Files_to_work_through/Data_for_crowd/MouseBrain_s7_nuc_montages_5_5/MouseBrain_s7_nuc_x_4_y_4_montage_1.png  722281 / 722281.0  (100.00%)\n",
      "\n"
     ]
    }
   ],
   "source": [
    "#import os\n",
    "\n",
    "bucket_name = \"figure-eight-deepcell\" #default\n",
    "aws_folder = \"MouseBrain/set7\"\n",
    "folder_to_upload = save_direc #usually .../montages\n",
    "#data_to_upload = \"/home/geneva/Desktop/Nb_testing/montages/\"\n",
    "\n",
    "uploaded_montages = aws_upload(bucket_name, aws_folder, folder_to_upload)\n",
    "\n",
    "#os.path.join(\"https://s3.us-east-2.amazonaws.com\", bucket_name, aws_folder)\n",
    "#print(uploaded_montages)\n",
    "#from io_utils import get_img_names\n",
    "#imgs_to_upload = get_img_names(folder_to_upload)\n",
    "#for index, img in enumerate(imgs_to_upload):\n",
    "#    print(img)\n",
    "#    print(os.path.join(folder_to_upload, img))"
   ]
  },
  {
   "cell_type": "markdown",
   "metadata": {},
   "source": [
    "### Make CSV file\n",
    "Figure Eight jobs can be created easily by using a CSV file where each row contains information about one task. For our jobs, each row has the link to the location of one montage, and information about that montage (currently, just the \"identifier\" specified at the beginning of the pipeline). The CSV file is saved as \"identifier\".csv in a folder that only holds CSVs. CSV folders are usually in cell-type directories, so identifiers should be able to distinguish between sets, parts, etc."
   ]
  },
  {
   "cell_type": "code",
   "execution_count": 8,
   "metadata": {},
   "outputs": [],
   "source": [
    "#identifier = \"test\"\n",
    "csv_direc = os.path.join(base_direc, \"CSV\")"
   ]
  },
  {
   "cell_type": "code",
   "execution_count": 9,
   "metadata": {},
   "outputs": [],
   "source": [
    "csv_maker(uploaded_montages, identifier, csv_direc)"
   ]
  },
  {
   "cell_type": "markdown",
   "metadata": {},
   "source": [
    "### Create Figure Eight job\n",
    "The Figure Eight API allows us to create a new job and upload data to it from this notebook. However, since our jobs don't include required test questions, editing job information such as the title of the job must be done via the website. This section of the notebook uses the API to create a job and upload data to it, then reminds the user to finish editing the job on the website.\n",
    "\n",
    "Some sample job IDs to copy are provided below."
   ]
  },
  {
   "cell_type": "code",
   "execution_count": 10,
   "metadata": {},
   "outputs": [],
   "source": [
    "#job_id_to_copy = 1344258 #Elowitz timelapse RFP pilot\n",
    "job_id_to_copy = 1346216 #Deepcell MouseBrain 3x5\n",
    "#job_id_to_copy = 1306431 #Deepcell overlapping Mibi\n",
    "#job_id_to_copy = 1292179 #Deepcell HEK\n",
    "#job_id_to_copy ="
   ]
  },
  {
   "cell_type": "code",
   "execution_count": 11,
   "metadata": {},
   "outputs": [
    {
     "name": "stdout",
     "output_type": "stream",
     "text": [
      "Figure eight api key? ········\n",
      "200\n",
      "New job ID is: 1352262\n",
      "Added data\n",
      "Head over to the Figure Eight website to change the name of the job, review it, then contact the success manager so they can launch this job.\n"
     ]
    }
   ],
   "source": [
    "from fig_eight_upload import fig_eight\n",
    "\n",
    "fig_eight(csv_direc, identifier, job_id_to_copy)"
   ]
  }
 ],
 "metadata": {
  "kernelspec": {
   "display_name": "Python 3",
   "language": "python",
   "name": "python3"
  },
  "language_info": {
   "codemirror_mode": {
    "name": "ipython",
    "version": 3
   },
   "file_extension": ".py",
   "mimetype": "text/x-python",
   "name": "python",
   "nbconvert_exporter": "python",
   "pygments_lexer": "ipython3",
   "version": "3.6.7"
  }
 },
 "nbformat": 4,
 "nbformat_minor": 2
}
