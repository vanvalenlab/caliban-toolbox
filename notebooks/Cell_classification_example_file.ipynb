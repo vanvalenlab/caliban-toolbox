{
 "cells": [
  {
   "cell_type": "markdown",
   "metadata": {},
   "source": [
    "Initial draft of data specifications for cell classification task."
   ]
  },
  {
   "cell_type": "markdown",
   "metadata": {},
   "source": [
    "## Summary\n",
    "\n",
    "Files must be zip containers (filenames will end in '.zip') and include:\n",
    "- [X.npy array with dimensions (1, y, x, c); raw data](#load-X-data)\n",
    "- y.npy array with dimensions (1, y, x, 1); instance labels\n",
    "- [channel_names.json](#channel-names)\n",
    "- [classes/cell_type.json](#cell-type-class-specs)\n",
    "\n",
    "This notebook will help create each component of the file and save them in the correct output format. This notebook also provides an example of how to extract the file contents after annotation using the python zipfile library."
   ]
  },
  {
   "cell_type": "code",
   "execution_count": null,
   "metadata": {},
   "outputs": [],
   "source": [
    "import os\n",
    "import re\n",
    "\n",
    "import imageio\n",
    "import matplotlib.pyplot as plt\n",
    "import numpy as np\n",
    "import pandas as pd\n",
    "\n",
    "from caliban_toolbox.utils.misc_utils import sorted_nicely"
   ]
  },
  {
   "cell_type": "code",
   "execution_count": null,
   "metadata": {},
   "outputs": [],
   "source": [
    "def sanitize(x):\n",
    "    \"\"\"Strip out non-alphanumeric characters from a string.\n",
    "    \n",
    "    https://stackoverflow.com/a/1276774\n",
    "    \n",
    "    returns lowercase version of string to help compare\n",
    "    possible variations of channel or class names, eg:\n",
    "        - 'B cell' vs 'Bcell' vs 'b_cell'\n",
    "    \n",
    "    Note that this will strip out '+' and '-' characters,\n",
    "    so if that is the only difference between two class names,\n",
    "    problems may arise! Use 'pos' or 'neg' when creating names\n",
    "    for lineage classifications instead.\n",
    "    \"\"\"\n",
    "    return re.sub(r'\\W+', '', x).lower()"
   ]
  },
  {
   "cell_type": "code",
   "execution_count": null,
   "metadata": {},
   "outputs": [],
   "source": [
    "def check_tif_ext(filename):\n",
    "    # dotfile not a legitimate .tif file\n",
    "    if filename.startswith('.'):\n",
    "        return False\n",
    "    if os.path.splitext(filename.lower())[1] in ['.tif', '.tiff']:\n",
    "        return True\n",
    "    return False"
   ]
  },
  {
   "cell_type": "code",
   "execution_count": null,
   "metadata": {},
   "outputs": [],
   "source": [
    "# example data\n",
    "DATA_DIR = os.path.abspath('../data/cell_classification_example')"
   ]
  },
  {
   "cell_type": "markdown",
   "metadata": {},
   "source": [
    "### Starting from predicted classifications\n",
    "Annotation files for DCL will likely need to be prepared from existing data in a different format."
   ]
  },
  {
   "cell_type": "code",
   "execution_count": null,
   "metadata": {},
   "outputs": [],
   "source": [
    "# load the existing cell classification mapping\n",
    "example_key = os.path.join(DATA_DIR, 'cell_key.csv')\n",
    "example_key_df = pd.read_csv(example_key, header=None)\n",
    "\n",
    "# this corresponds to the pixel-level classification array\n",
    "# we will need this information to convert from\n",
    "# the label array to the cell class assignment dictionary we require\n",
    "example_key_df"
   ]
  },
  {
   "cell_type": "code",
   "execution_count": null,
   "metadata": {},
   "outputs": [],
   "source": [
    "# load and preview the pixel-level classification predictions\n",
    "example_prediction_path = os.path.join(DATA_DIR, 'Point1', 'Point1_cell_overlay.tiff')\n",
    "example_prediction_arr = imageio.imread(example_prediction_path)\n",
    "\n",
    "classes_cmap = plt.get_cmap('Dark2')\n",
    "classes_cmap.set_bad('black')\n",
    "fig, ax = plt.subplots(figsize=(10, 10))\n",
    "\n",
    "ax.imshow(np.ma.masked_equal(example_prediction_arr, 0), \n",
    "           cmap=classes_cmap)"
   ]
  },
  {
   "cell_type": "markdown",
   "metadata": {},
   "source": [
    "### Channel names <a name=\"channel-names\"></a>\n",
    "Information about channel names is stored at the top level of the zipfile in `channel_names.json`.\n",
    "\n",
    "This file contains a dictionary mapping each channel index to its name (usually the name of the marker used). This is stored as a dictionary, rather than a list, to make it easier to view the index of each channel name if needed.\n",
    "\n",
    "This file is referenced for general display purposes, as well as to determine the channel indices used for designated channel \"preset\" combinations.\n",
    "\n",
    "As a python dict:\n",
    "```python\n",
    "{\n",
    "    0: 'Au',\n",
    "    1: 'Background',\n",
    "    2: 'C',\n",
    "    3: 'Ca',\n",
    "    4: 'CC3'\n",
    "}\n",
    "```\n",
    "\n",
    "As JSON:\n",
    "```json\n",
    "{\n",
    "  \"0\": \"Au\",\n",
    "  \"1\": \"Background\",\n",
    "  \"2\": \"C\",\n",
    "  \"3\": \"Ca\",\n",
    "  \"4\": \"CC3\"\n",
    "}\n",
    "```"
   ]
  },
  {
   "cell_type": "markdown",
   "metadata": {},
   "source": [
    "### Load channels to make the array and channel name info<a name=\"load-X-data\"></a>\n",
    "The provided example data has one .tif for each channel. This section loads images in this format into a numpy array (`X.npy`) and creates the mapping of channel names to indices."
   ]
  },
  {
   "cell_type": "code",
   "execution_count": null,
   "metadata": {},
   "outputs": [],
   "source": [
    "images_folder = os.path.join(DATA_DIR, 'Point1', 'TIFs')\n",
    "\n",
    "# get list of files\n",
    "file_list = sorted_nicely(os.listdir(images_folder))\n",
    "\n",
    "# get list of .tif images (no dotfiles either)\n",
    "img_name_list = [f for f in file_list if check_tif_ext(f)]"
   ]
  },
  {
   "cell_type": "code",
   "execution_count": null,
   "metadata": {},
   "outputs": [],
   "source": [
    "# load images and store in a list\n",
    "img_list = [imageio.imread(os.path.join(images_folder, i)) for i in img_name_list]\n",
    "\n",
    "# stack the images along channel axis\n",
    "X = np.stack(img_list, axis=-1)\n",
    "# array also needs a trivial Z or T dimension\n",
    "X = np.expand_dims(X, axis=0)\n",
    "\n",
    "# array should now have shape of (1, height, width, num_channels)\n",
    "print(X.shape, X.dtype)"
   ]
  },
  {
   "cell_type": "code",
   "execution_count": null,
   "metadata": {},
   "outputs": [],
   "source": [
    "# create dictionary with channel names and indices\n",
    "channel_names = {i: os.path.splitext(name)[0] for i, name in enumerate(img_name_list)}"
   ]
  },
  {
   "cell_type": "markdown",
   "metadata": {},
   "source": [
    "### Cell type classifications<a name=\"cell-type-class-specs\"></a>\n",
    "AKA cell developmental lineages. This is named `cell_type.json` to avoid confusion with the `lineage.json` file that contains annotations of cell divisions in files for our live cell tracking project. This file is stored within the `classes` folder of the zip container.\n",
    "\n",
    "This file contains a mapping of class names to integers, as well as the class values assigned to each label in the file. The assignments for each instance label are grouped on a frame-by-frame basis, although these files only contain one frame's worth of assignments (frame `0`). \n",
    "\n",
    "We've pre-populated values for anticipated classes, like the `'Tumor'` class below. Because the classes are defined and stored alongside the assigned values, these initial class definitions and groupings can be safely added to or modified.\n",
    "\n",
    "For each class specified in this file, helpful channels can also be defined, which will be displayed in the Label app as \"preset\" combinations to help annotation.\n",
    "\n",
    "As a python dict, this looks like:\n",
    "```python\n",
    "    {        \n",
    "        'semantic_ids': {\n",
    "            # class_id: class_information\n",
    "            0: {\n",
    "                'name': 'unassigned',\n",
    "                'markers': None,\n",
    "                'channels': None\n",
    "            },\n",
    "            1: {\n",
    "                'name': 'Tumor',\n",
    "                'markers': ['PanCK', 'ECAD', 'CK7'],\n",
    "                'channels': [1, 2, 3]  # whichever channel indices apply to the file\n",
    "                # channel indices are automatically determined when creating the file\n",
    "                # these don't need to (and shouldn't be) defined manually\n",
    "            },\n",
    "            # several more entries\n",
    "        },\n",
    "        'assignments': {\n",
    "            # frame number: label assignments in that frame\n",
    "            0: {\n",
    "                # label_id: class_id\n",
    "                # no entry for \"label\" 0\n",
    "                1: 5,  # class 5\n",
    "                2: 1,  # class 1 = Tumor class in this example\n",
    "                # okay if labels are not sequential, but we try to avoid this\n",
    "                4: 0,  # unassigned class\n",
    "            }\n",
    "        }\n",
    "    }\n",
    "```\n",
    "\n",
    "As JSON, this looks like:\n",
    "```json\n",
    "{\n",
    "  \"semantic_ids\": {\n",
    "    \"0\": {\n",
    "      \"name\": \"unassigned\",\n",
    "      \"markers\": null,\n",
    "      \"channels\": null\n",
    "    },\n",
    "    \"1\": {\n",
    "      \"name\": \"Tumor\",\n",
    "      \"markers\": [\n",
    "        \"PanCK\",\n",
    "        \"ECAD\",\n",
    "        \"CK7\"\n",
    "      ],\n",
    "      \"channels\": [\n",
    "        1,\n",
    "        2,\n",
    "        3\n",
    "      ]\n",
    "    }\n",
    "  },\n",
    "  \"assignments\": {\n",
    "    \"0\": {\n",
    "      \"1\": 5,\n",
    "      \"2\": 1,\n",
    "      \"4\": 0\n",
    "    }\n",
    "  }\n",
    "}\n",
    "```"
   ]
  },
  {
   "cell_type": "code",
   "execution_count": null,
   "metadata": {},
   "outputs": [],
   "source": []
  }
 ],
 "metadata": {
  "kernelspec": {
   "display_name": "Python 3",
   "language": "python",
   "name": "python3"
  },
  "language_info": {
   "codemirror_mode": {
    "name": "ipython",
    "version": 3
   },
   "file_extension": ".py",
   "mimetype": "text/x-python",
   "name": "python",
   "nbconvert_exporter": "python",
   "pygments_lexer": "ipython3",
   "version": "3.7.5"
  }
 },
 "nbformat": 4,
 "nbformat_minor": 4
}
