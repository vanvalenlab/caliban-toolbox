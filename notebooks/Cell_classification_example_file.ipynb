{
 "cells": [
  {
   "cell_type": "markdown",
   "metadata": {},
   "source": [
    "Initial draft of data specifications for cell classification task."
   ]
  },
  {
   "cell_type": "markdown",
   "metadata": {},
   "source": [
    "## Summary\n",
    "\n",
    "Files must be zip containers (filenames will end in '.zip') and include:\n",
    "- X.npy array with dimensions (1, y, x, c); raw data\n",
    "- y.npy array with dimensions (1, y, x, 1); instance labels\n",
    "- channel_names.json\n",
    "- classes/cell_type.json\n",
    "\n",
    "This notebook will help create each component of the file and save them in the correct output format. This notebook also provides an example of how to extract the file contents after annotation using the python zipfile library."
   ]
  },
  {
   "cell_type": "code",
   "execution_count": null,
   "metadata": {},
   "outputs": [],
   "source": [
    "import os\n",
    "import re\n",
    "\n",
    "import pandas as pd"
   ]
  },
  {
   "cell_type": "code",
   "execution_count": null,
   "metadata": {},
   "outputs": [],
   "source": [
    "def sanitize(x):\n",
    "    \"\"\"Strip out non-alphanumeric characters from a string.\n",
    "    \n",
    "    https://stackoverflow.com/a/1276774\n",
    "    \n",
    "    returns lowercase version of string to help compare\n",
    "    possible variations of channel or class names, eg:\n",
    "        - 'B cell' vs 'Bcell' vs 'b_cell'\n",
    "    \n",
    "    Note that this will strip out '+' and '-' characters,\n",
    "    so if that is the only difference between two class names,\n",
    "    problems may arise! Use 'pos' or 'neg' when creating names\n",
    "    for lineage classifications instead.\n",
    "    \"\"\"\n",
    "    return re.sub(r'\\W+', '', x).lower()"
   ]
  },
  {
   "cell_type": "code",
   "execution_count": null,
   "metadata": {},
   "outputs": [],
   "source": []
  },
  {
   "cell_type": "code",
   "execution_count": null,
   "metadata": {},
   "outputs": [],
   "source": []
  }
 ],
 "metadata": {
  "kernelspec": {
   "display_name": "Python 3",
   "language": "python",
   "name": "python3"
  },
  "language_info": {
   "codemirror_mode": {
    "name": "ipython",
    "version": 3
   },
   "file_extension": ".py",
   "mimetype": "text/x-python",
   "name": "python",
   "nbconvert_exporter": "python",
   "pygments_lexer": "ipython3",
   "version": "3.7.5"
  }
 },
 "nbformat": 4,
 "nbformat_minor": 4
}
