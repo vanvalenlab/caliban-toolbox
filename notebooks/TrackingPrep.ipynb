{
 "cells": [
  {
   "cell_type": "markdown",
   "metadata": {},
   "source": [
    "# Tracking Pipeline\n",
    "\n",
    "1. Collect and zip raw data \n",
    "2. Upload to DeepCell.org & Download annotations\n",
    "3. Chop up images into manageable pieces\n",
    "4. Track each of these movies and prepare Caliban input file\n",
    "5. Load data into Caliban and correct tracks \n",
    "6. Retrain tracking model on Caliban output"
   ]
  },
  {
   "cell_type": "code",
   "execution_count": 1,
   "metadata": {},
   "outputs": [],
   "source": [
    "# Import statements\n",
    "from __future__ import absolute_import\n",
    "from __future__ import print_function\n",
    "from __future__ import division\n",
    "import numpy as np\n",
    "import matplotlib\n",
    "import matplotlib.pyplot as plt\n",
    "import os, random\n",
    "import pathlib\n",
    "import skimage as sk\n",
    "import scipy as sp\n",
    "from skimage.io import imread, imshow\n",
    "from skimage.external.tifffile import TiffFile\n"
   ]
  },
  {
   "cell_type": "markdown",
   "metadata": {},
   "source": [
    "## 3. Chop up images into manageable pieces\n",
    "\n",
    "Should take in directories of raw and annotated data  \n",
    "Chop up each into sequeces of registered frames (matching raw and annotated movies)  \n",
    "Store the output in an npz that the tracker can operate on (npz of 'X' and 'y')  "
   ]
  },
  {
   "cell_type": "code",
   "execution_count": 2,
   "metadata": {},
   "outputs": [],
   "source": [
    "# Define the directories of interest\n",
    "base_direc = '/data/data/cells/3T3/NIH/set0/deepcell_segmentations_v1/part_2'\n",
    "source_direcs = ['raw', 'annotated_ws']\n",
    "output_direc = '/data/data/cells/3T3/NIH/set0/deepcell_segmentations_v1/part_2/movies'\n",
    "\n",
    "# Create output ditrectory, if necessary\n",
    "#pathlib.Path(output_directory).mkdir(parents=True, exist_ok=True)\n",
    "\n",
    "# Training directories are organized according to location within an image\n",
    "# These can be tuned to limit the number of cells data curators see per frame\n",
    "num_x = 7 # Define num of horizontal samples\n",
    "num_y = 7 # Define num of vertical samples\n",
    "\n",
    "# Define the percentage each image should overlap (in case the result will eventually be stiched back together)\n",
    "overlap_perc = 1\n"
   ]
  },
  {
   "cell_type": "code",
   "execution_count": null,
   "metadata": {},
   "outputs": [
    {
     "name": "stdout",
     "output_type": "stream",
     "text": [
      "Current Image Size:  (1080, 1280)\n"
     ]
    }
   ],
   "source": [
    "import importlib\n",
    "\n",
    "import dcde\n",
    "\n",
    "import dcde.pre_annotation.chop_into_overlapping_images\n",
    "importlib.reload(dcde.pre_annotation.chop_into_overlapping_images)\n",
    "\n",
    "trial = dcde.pre_annotation.chop_into_overlapping_images.chop_into_overlap_img(\n",
    "                     num_of_sets = 1,\n",
    "                     num_x = num_x, num_y=num_y,\n",
    "                     base_direc = base_direc,\n",
    "                     source_direcs = source_direcs,\n",
    "                     output_direc = output_direc,\n",
    "                     out_file_prefix = \"s0p2\",\n",
    "                     overlap_perc = overlap_perc)\n",
    "trial.crop_multiple_dir()\n"
   ]
  },
  {
   "cell_type": "markdown",
   "metadata": {},
   "source": []
  }
 ],
 "metadata": {
  "kernelspec": {
   "display_name": "Python 3",
   "language": "python",
   "name": "python3"
  },
  "language_info": {
   "codemirror_mode": {
    "name": "ipython",
    "version": 3
   },
   "file_extension": ".py",
   "mimetype": "text/x-python",
   "name": "python",
   "nbconvert_exporter": "python",
   "pygments_lexer": "ipython3",
   "version": "3.5.2"
  }
 },
 "nbformat": 4,
 "nbformat_minor": 2
}
