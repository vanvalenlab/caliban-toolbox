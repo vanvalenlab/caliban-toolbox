{
 "cells": [
  {
   "cell_type": "markdown",
   "metadata": {},
   "source": [
    "# Caliban Fig8 Upload Pipeline\n",
    "This pipeline creates a Figure Eight job and uploads data files to an S3 bucket for data curation.\n",
    "\n",
    "- Resize npz into smaller pieces (image dimensions) if needed\n",
    "- Shorten length of npz if needed\n",
    "- Upload files to AWS\n",
    "- Create job csv and upload it to figure 8\n",
    "\n",
    "**Note: if you need to start a Caliban job to correct the results of a previous Caliban job, please set \"base_dir\" then skip to the end of the notebook.**"
   ]
  },
  {
   "cell_type": "code",
   "execution_count": 1,
   "metadata": {},
   "outputs": [],
   "source": [
    "# import statements\n",
    "from __future__ import absolute_import\n",
    "\n",
    "\n",
    "from imageio import imread, volread, imwrite, volwrite\n",
    "import numpy as np\n",
    "import os\n",
    "import stat\n",
    "import sys\n",
    "\n",
    "\n",
    "import skimage.io as io\n",
    "\n",
    "from caliban_toolbox.pre_annotation import npz_preprocessing\n",
    "from caliban_toolbox.post_annotation import npz_postprocessing\n",
    "from caliban_toolbox.pre_annotation.aws_upload import aws_caliban_upload\n",
    "from caliban_toolbox.pre_annotation.caliban_csv import initial_csv_maker, create_next_CSV\n",
    "from caliban_toolbox.pre_annotation.fig_eight_upload import fig_eight\n",
    "\n",
    "\n",
    "\n",
    "from ipywidgets import fixed, interactive\n",
    "%matplotlib inline\n",
    "\n",
    "import matplotlib as mpl\n",
    "import matplotlib.pyplot as plt\n",
    "\n",
    "from skimage import filters, img_as_uint\n",
    "import skimage as sk\n",
    "\n",
    "from caliban_toolbox.utils.io_utils import get_img_names\n",
    "from caliban_toolbox.utils import widget_utils\n",
    "\n",
    "perm_mod = stat.S_IRWXO | stat.S_IRWXU | stat.S_IRWXG"
   ]
  },
  {
   "cell_type": "markdown",
   "metadata": {},
   "source": [
    "## Load data for model training\n",
    "We'll specify which channels will be used to generate preliminary labels for the model\n"
   ]
  },
  {
   "cell_type": "code",
   "execution_count": 2,
   "metadata": {},
   "outputs": [
    {
     "data": {
      "text/plain": [
       "(38, 1024, 1024, 1)"
      ]
     },
     "execution_count": 2,
     "metadata": {},
     "output_type": "execute_result"
    }
   ],
   "source": [
    "data_dir = '/example_data/3D/FOV_0'\n",
    "data_vol = os.path.join(data_dir, 'Pos0_DAPIRegistered.tif')\n",
    "data_stack = volread(data_vol)\n",
    "data_stack = np.expand_dims(data_stack, axis=-1)\n",
    "data_stack.shape"
   ]
  },
  {
   "cell_type": "markdown",
   "metadata": {},
   "source": [
    "## Run the data through the network to produce labels"
   ]
  },
  {
   "cell_type": "code",
   "execution_count": null,
   "metadata": {},
   "outputs": [],
   "source": [
    "# deepcell upload code here"
   ]
  },
  {
   "cell_type": "markdown",
   "metadata": {},
   "source": [
    "## Postprocess the deepcell labels"
   ]
  },
  {
   "cell_type": "code",
   "execution_count": 2,
   "metadata": {},
   "outputs": [],
   "source": [
    "# code to postprocess labels, select appropriate parameters"
   ]
  },
  {
   "cell_type": "code",
   "execution_count": null,
   "metadata": {},
   "outputs": [],
   "source": []
  },
  {
   "cell_type": "markdown",
   "metadata": {},
   "source": [
    "# Part A: Adjust image contrast, background, thresholding"
   ]
  },
  {
   "cell_type": "code",
   "execution_count": 9,
   "metadata": {},
   "outputs": [],
   "source": [
    "# initialize lists to hold newly created channels\n",
    "adjusted_channels, adjusted_channel_names, adjusted_channel_kwargs = [], [], []"
   ]
  },
  {
   "cell_type": "markdown",
   "metadata": {},
   "source": [
    "### Step 1: Pick raw image\n",
    "This will be used as an example to display effect of adjustments later on. This can be changed at any time!"
   ]
  },
  {
   "cell_type": "code",
   "execution_count": 3,
   "metadata": {},
   "outputs": [
    {
     "data": {
      "application/vnd.jupyter.widget-view+json": {
       "model_id": "9fc9d3ba5e3e4fd18356e86ba3276c95",
       "version_major": 2,
       "version_minor": 0
      },
      "text/plain": [
       "interactive(children=(IntSlider(value=18, description='slice_index', max=37), IntSlider(value=0, description='…"
      ]
     },
     "metadata": {},
     "output_type": "display_data"
    }
   ],
   "source": [
    "choose_img_output = interactive(widget_utils.choose_img_from_stack, stack = fixed(data_stack), \n",
    "                         slice_index = (0, data_stack.shape[0]-1, 1),\n",
    "                         chan_index = (0, data_stack.shape[3]-1, 1));\n",
    "choose_img_output"
   ]
  },
  {
   "cell_type": "markdown",
   "metadata": {},
   "source": [
    "### Step 2: Set raw image adjust parameters\n",
    "These will be held in memory until npz is saved. A record of the contrast adjustment settings will be saved with them."
   ]
  },
  {
   "cell_type": "code",
   "execution_count": 4,
   "metadata": {},
   "outputs": [
    {
     "data": {
      "application/vnd.jupyter.widget-view+json": {
       "model_id": "c53be3e6a87144089126e76ae2eacd79",
       "version_major": 2,
       "version_minor": 0
      },
      "text/plain": [
       "interactive(children=(FloatSlider(value=1.0, description='blur', max=4.0), Checkbox(value=True, description='s…"
      ]
     },
     "metadata": {},
     "output_type": "display_data"
    }
   ],
   "source": [
    "# get most recent parameters for selected image\n",
    "selected_slice_idx, selected_chan_idx = choose_img_output.result\n",
    "img = data_stack[selected_slice_idx, :, :, selected_chan_idx]\n",
    "\n",
    "# interative edit mode\n",
    "adjust_image_output = interactive(widget_utils.adjust_image_interactive, image=fixed(img), blur=(0.0,4,0.1), \n",
    "                       gamma_adjust=(0.1,4,0.1), sobel_factor=(10,10000,100), v_min = (0, 255, 1), \n",
    "                       v_max = (0, 255, 1));\n",
    "adjust_image_output"
   ]
  },
  {
   "cell_type": "markdown",
   "metadata": {},
   "source": [
    "### Step 3: Adjust raw image with specified parameters"
   ]
  },
  {
   "cell_type": "code",
   "execution_count": 6,
   "metadata": {},
   "outputs": [],
   "source": [
    "# create placeholder channel to hold the output of channel adjustment\n",
    "adjusted_channel = np.zeros(data_stack.shape[:-1] + (1,), np.uint8)\n",
    "\n",
    "# adjust all slices for given channel\n",
    "for i in range(data_stack.shape[0]):\n",
    "    image = data_stack[i, :, :, selected_chan_idx]\n",
    "    adjusted_channel[i, :, :, selected_chan_idx] = widget_utils.adjust_image(image, adjust_image_output.kwargs)"
   ]
  },
  {
   "cell_type": "markdown",
   "metadata": {},
   "source": [
    "### Step 4: Verify that adjustment looks good across slices"
   ]
  },
  {
   "cell_type": "code",
   "execution_count": 7,
   "metadata": {},
   "outputs": [
    {
     "data": {
      "application/vnd.jupyter.widget-view+json": {
       "model_id": "bd43cd1915454d2eb9938c73219d17cd",
       "version_major": 2,
       "version_minor": 0
      },
      "text/plain": [
       "interactive(children=(IntSlider(value=18, description='slice_index', max=37), Output()), _dom_classes=('widget…"
      ]
     },
     "metadata": {},
     "output_type": "display_data"
    }
   ],
   "source": [
    "check_adjustment_output = interactive(widget_utils.choose_img_from_stack, stack = fixed(adjusted_channel), \n",
    "                               slice_index = (0, data_stack.shape[0]-1, 1),\n",
    "                              chan_index = fixed(selected_chan_idx));\n",
    "check_adjustment_output"
   ]
  },
  {
   "cell_type": "markdown",
   "metadata": {},
   "source": [
    "### Step 5: Give the adjusted channel an informative name, repeat part A for each channel that needs to be adjusted"
   ]
  },
  {
   "cell_type": "code",
   "execution_count": 11,
   "metadata": {},
   "outputs": [],
   "source": [
    "adjusted_channel_name = [\"phase_contrast_adjusted\"]\n",
    "adjusted_channel_names.append(adjusted_channel_name)\n",
    "adjusted_channels.append(adjusted_channel)\n",
    "adjusted_channel_kwargs.append(adjust_image_output.kwargs)"
   ]
  },
  {
   "cell_type": "markdown",
   "metadata": {},
   "source": [
    "# Part B: create overlays"
   ]
  },
  {
   "cell_type": "code",
   "execution_count": 17,
   "metadata": {},
   "outputs": [],
   "source": [
    "# initialize lists to hold newly created channels\n",
    "combined_channels, combined_channel_names, combined_channel_kwargs = [], [], []"
   ]
  },
  {
   "cell_type": "markdown",
   "metadata": {},
   "source": [
    "### Step 1: Select first channel to be included in overlay, perform any needed adjustments"
   ]
  },
  {
   "cell_type": "code",
   "execution_count": 12,
   "metadata": {},
   "outputs": [
    {
     "data": {
      "application/vnd.jupyter.widget-view+json": {
       "model_id": "01b64489d6f341e986b4150cc19c8f56",
       "version_major": 2,
       "version_minor": 0
      },
      "text/plain": [
       "interactive(children=(FloatSlider(value=1.0, description='blur', max=4.0), Checkbox(value=True, description='s…"
      ]
     },
     "metadata": {},
     "output_type": "display_data"
    }
   ],
   "source": [
    "img_1_idx = 0\n",
    "img1 = data_stack[selected_slice_idx, :, :, img_1_idx]\n",
    "\n",
    "adjust_overlay_1_output = interactive(widget_utils.adjust_image_interactive, image=fixed(img1), blur=(0.0,4,0.1), \n",
    "                          gamma_adjust=(0.1,4,0.1), sobel_factor=(10,10000,100), v_min = (0, 255, 1), \n",
    "                          v_max = (0, 255, 1));\n",
    "adjust_overlay_1_output"
   ]
  },
  {
   "cell_type": "markdown",
   "metadata": {},
   "source": [
    "### Step 2: Select second channel to be included in overlay, perform any needed adjustments"
   ]
  },
  {
   "cell_type": "code",
   "execution_count": 13,
   "metadata": {},
   "outputs": [
    {
     "data": {
      "application/vnd.jupyter.widget-view+json": {
       "model_id": "e395c59f7ce24faea2a13d24bcdeb390",
       "version_major": 2,
       "version_minor": 0
      },
      "text/plain": [
       "interactive(children=(FloatSlider(value=1.0, description='blur', max=4.0), Checkbox(value=True, description='s…"
      ]
     },
     "metadata": {},
     "output_type": "display_data"
    }
   ],
   "source": [
    "img_2_idx = 0\n",
    "img2 = data_stack[selected_slice_idx, :, :, img_2_idx]\n",
    "\n",
    "adjust_overlay_2_output = interactive(widget_utils.adjust_image_interactive, image=fixed(img2), blur=(0.0,4,0.1), \n",
    "                          gamma_adjust=(0.1,4,0.1), sobel_factor=(2,10000,100), v_min = (0, 255, 1), \n",
    "                          v_max = (0, 255, 1));\n",
    "adjust_overlay_2_output"
   ]
  },
  {
   "cell_type": "markdown",
   "metadata": {},
   "source": [
    "### Step 3: Select the appropriate settings for combinging the two images together"
   ]
  },
  {
   "cell_type": "code",
   "execution_count": 14,
   "metadata": {},
   "outputs": [
    {
     "data": {
      "application/vnd.jupyter.widget-view+json": {
       "model_id": "19d144f8cb4f428da4db759c2bbde6a0",
       "version_major": 2,
       "version_minor": 0
      },
      "text/plain": [
       "interactive(children=(FloatSlider(value=0.5, description='prop_img_1', max=1.0), IntSlider(value=0, descriptio…"
      ]
     },
     "metadata": {},
     "output_type": "display_data"
    }
   ],
   "source": [
    "overlay_images_output = interactive(widget_utils.overlay_images_interactive, \n",
    "                               img_1 = fixed(adjust_overlay_1_output.result), \n",
    "                               img_2 = fixed(adjust_overlay_2_output.result), \n",
    "                               prop_img_1 =(0,1.0, 0.1), v_min = (0, 255, 1), v_max = (0, 255, 1))\n",
    "overlay_images_output"
   ]
  },
  {
   "cell_type": "markdown",
   "metadata": {},
   "source": [
    "### Step 4: Create overlays across the whole image stack"
   ]
  },
  {
   "cell_type": "code",
   "execution_count": 15,
   "metadata": {},
   "outputs": [],
   "source": [
    "combined_settings = overlay_images_output.kwargs\n",
    "prop_img_1 = combined_settings['prop_img_1']\n",
    "v_min = combined_settings['v_min']\n",
    "v_max = combined_settings['v_max']\n",
    "\n",
    "overlay_channel = np.zeros(data_stack.shape[:-1] + (1,), np.uint8)\n",
    "for i in range(data_stack.shape[0]):\n",
    "    image1 = data_stack[i, :, :, img_1_idx]\n",
    "    image2 = data_stack[i, :, :, img_2_idx]\n",
    "\n",
    "    image1_adjusted = widget_utils.adjust_image(image1, adjust_overlay_1_output.kwargs)\n",
    "    image2_adjusted = widget_utils.adjust_image(image2, adjust_overlay_2_output.kwargs)\n",
    "    overlay_channel[i, :, :, 0] = widget_utils.overlay_images(image1_adjusted, image1_adjusted, \n",
    "                                                              prop_img_1, v_min, v_max)"
   ]
  },
  {
   "cell_type": "code",
   "execution_count": 16,
   "metadata": {},
   "outputs": [
    {
     "data": {
      "application/vnd.jupyter.widget-view+json": {
       "model_id": "5194fe6acf004d75b84de601a3a2ef47",
       "version_major": 2,
       "version_minor": 0
      },
      "text/plain": [
       "interactive(children=(IntSlider(value=18, description='slice_index', max=37), Output()), _dom_classes=('widget…"
      ]
     },
     "metadata": {},
     "output_type": "display_data"
    }
   ],
   "source": [
    "check_adjustment = interactive(widget_utils.choose_img_from_stack, stack = fixed(overlay_channel), \n",
    "                         slice_index = (0, data_stack.shape[0]-1, 1),\n",
    "                         chan_index = fixed(0));\n",
    "check_adjustment"
   ]
  },
  {
   "cell_type": "markdown",
   "metadata": {},
   "source": [
    "### Step 5: Give the combined channel an informative name, repeat part B for each set of overlays that needs to be constructed"
   ]
  },
  {
   "cell_type": "code",
   "execution_count": 18,
   "metadata": {},
   "outputs": [],
   "source": [
    "combined_channel_name = [\"phase_contrast_adjusted\"]\n",
    "combined_channel_names.append(adjusted_channel_name)\n",
    "combined_channels.append(overlay_channel)\n",
    "adjusted_channel_kwargs.append([prop_img_1, v_min, v_max, adjust_overlay_1_output.kwargs, adjust_overlay_2_output])"
   ]
  },
  {
   "cell_type": "code",
   "execution_count": null,
   "metadata": {},
   "outputs": [],
   "source": []
  },
  {
   "cell_type": "markdown",
   "metadata": {},
   "source": [
    "## Split npz into pieces\n",
    "The idea is that you'd be starting from one huge npz and breaking it into managable pieces. This part will probably include:\n",
    "- reshape npz (size of each piece is smaller, but same number of frames)\n",
    "- break up each npz into fewer frames (annotator does not necessarily need to do all 30+ frames of a movie at once)\n",
    "- save these reshaped pieces as individual npz files, so they can be uploaded and worked on separately\n",
    "- relabel the npzs as needed (choose between no relabel, relabel each cell in each frame to have unique label, or relabel to have unique labels but preserve 3D relationships)\n",
    "\n",
    "These pieces will need specific names so that we can put them back together again if needed (especially putting frames back into longer contiguous movies)."
   ]
  },
  {
   "cell_type": "code",
   "execution_count": 2,
   "metadata": {},
   "outputs": [],
   "source": [
    "base_dir = '../example_data/'"
   ]
  },
  {
   "cell_type": "markdown",
   "metadata": {},
   "source": [
    "### Reshape npz (y and x dimensions) if needed"
   ]
  },
  {
   "cell_type": "code",
   "execution_count": null,
   "metadata": {},
   "outputs": [],
   "source": [
    "full_npz_path = '/data/figure_eight/HeLa-S3_cyto_movies/set7/HeLa_movie_s7_uncorrected_fullsize_all_channels.npz'\n",
    "x_size = 320\n",
    "y_size = 270\n",
    "reshaped_save_dir = os.path.join(base_dir, 'reshaped')"
   ]
  },
  {
   "cell_type": "code",
   "execution_count": null,
   "metadata": {},
   "outputs": [],
   "source": [
    "reshape_npz(full_npz_path, x_size, y_size, save_dir = reshaped_save_dir)"
   ]
  },
  {
   "cell_type": "markdown",
   "metadata": {},
   "source": [
    "### Crop npz into smaller x and y pieces\n",
    "optionally takes an npz file and splits it into many smaller npzs, each of which can be submitted a separate Figure8 job"
   ]
  },
  {
   "cell_type": "markdown",
   "metadata": {},
   "source": [
    "### Slice (t or z dimension) single npz if needed\n",
    "#### Use this option if you do not need to reshape y and x in your npz before beginning work.\n",
    "This option may be useful in the future for something like curation of 2D npzs. In that case, each slice is independent, so only one slice would be launched at a time. With only one frame to annotate, the annotation time per image allows for a larger image (annotating a larger image would also reduce the number of annotations on the edge, which can be tougher since there is less context to judge cell boundaries).\n",
    "\n",
    "However, this option has limited use until Caliban supports zooming in and out."
   ]
  },
  {
   "cell_type": "code",
   "execution_count": null,
   "metadata": {},
   "outputs": [],
   "source": [
    "# full_npz_path = ''\n",
    "# batch_size = 1\n",
    "# sliced_save_dir = ''"
   ]
  },
  {
   "cell_type": "code",
   "execution_count": null,
   "metadata": {},
   "outputs": [],
   "source": [
    "# slice_npz_batches(full_npz_path, batch_size, save_dir)"
   ]
  },
  {
   "cell_type": "markdown",
   "metadata": {},
   "source": [
    "### Slice (t or z dimension) folder of reshaped npzs if needed"
   ]
  },
  {
   "cell_type": "code",
   "execution_count": null,
   "metadata": {},
   "outputs": [],
   "source": [
    "batch_size = 5\n",
    "sliced_save_dir = os.path.join(base_dir, 'reshaped_resized')"
   ]
  },
  {
   "cell_type": "code",
   "execution_count": null,
   "metadata": {
    "scrolled": true
   },
   "outputs": [],
   "source": [
    "slice_npz_folder(src_folder = reshaped_save_dir, batch_size = batch_size, save_dir = sliced_save_dir)"
   ]
  },
  {
   "cell_type": "markdown",
   "metadata": {},
   "source": [
    "### Relabel npzs -- recommended for fig8 first pass jobs\n",
    "\"Predict\" relabeling is recommended (unless 3D segmentation models are being used), since this relabeling strategy will perform decently on most 3D data to reduce the human labor involved in correction."
   ]
  },
  {
   "cell_type": "code",
   "execution_count": null,
   "metadata": {},
   "outputs": [],
   "source": [
    "relabel_npzs_folder(npz_dir = sliced_save_dir, relabel_type = 'predict')"
   ]
  }
 ],
 "metadata": {
  "kernelspec": {
   "display_name": "Python 3",
   "language": "python",
   "name": "python3"
  },
  "language_info": {
   "codemirror_mode": {
    "name": "ipython",
    "version": 3
   },
   "file_extension": ".py",
   "mimetype": "text/x-python",
   "name": "python",
   "nbconvert_exporter": "python",
   "pygments_lexer": "ipython3",
   "version": "3.5.2"
  }
 },
 "nbformat": 4,
 "nbformat_minor": 2
}
