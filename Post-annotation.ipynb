{
 "cells": [
  {
   "cell_type": "markdown",
   "metadata": {},
   "source": [
    "After the Figure-Eight job has completed, it is time to download the job. Figure Eight offers multiple types of jobs: \n",
    "    full (returns the Full report containing every judgment), \n",
    "    aggregated (returns the Aggregated report containing the aggregated response for each row), json (returns the JSON report containing the aggregated response, as well as the individual judgments), gold_report (returns the Test Question report), workset (returns the Contributor report), source (returns a CSV of the source data uploaded to the job).\n",
    "\n",
    "To download the job and get working data, run download_processes.py. Below is an example of the computer prompted questions and responses."
   ]
  },
  {
   "cell_type": "code",
   "execution_count": 1,
   "metadata": {},
   "outputs": [
    {
     "name": "stdout",
     "output_type": "stream",
     "text": [
      "What is your Figure Eight api_key? XXXXXXXXXXXXXXXXXX\n",
      "What type of report? full\n",
      "What is the job id to download? 1283807\n"
     ]
    }
   ],
   "source": [
    "from download_processes import downloader\n",
    "downloader()"
   ]
  },
  {
   "cell_type": "markdown",
   "metadata": {},
   "source": [
    "Upon completing this, download_processes will create a new directory called job_ and the job id (for example, job_1283807). If the directory already exists, the contents of that folder will be overwritten. \n",
    "\n",
    "Next, we will progress to download the specified job report from Figure Eight by calling fig_eight_download.py. Within the new job directory, the zipped report will appear in the directory as output.zip."
   ]
  },
  {
   "cell_type": "markdown",
   "metadata": {},
   "source": [
    "With the zipped job report made, we will call save_annotations.py to download each annotation image and save it locally under the annotations directory. An unzipped csv of the job report will be availiable under the unzipped_csv directory. "
   ]
  },
  {
   "cell_type": "markdown",
   "metadata": {},
   "source": [
    "Afterwards, the program will ask to uniquely annotate the annotations in relabelled_annotations.py. \n",
    "Annotaters do not always use each label in sequential order. Thus, there are \n",
    "some labels that go unused, which may affect the output when running Deep Cell. \n",
    "It is recommended to run unique annotations. "
   ]
  },
  {
   "cell_type": "markdown",
   "metadata": {},
   "source": [
    "If relabelled_annotations.py was run, the computer will prompt to determine if the \n",
    "dataset annotated are montages. If so, reshape_annotations will be run to turn montages into movies \n"
   ]
  },
  {
   "cell_type": "markdown",
   "metadata": {},
   "source": [
    "Look for the Success! statement at the end to ensure that the download sequence has completed. "
   ]
  },
  {
   "cell_type": "code",
   "execution_count": null,
   "metadata": {},
   "outputs": [],
   "source": []
  },
  {
   "cell_type": "code",
   "execution_count": null,
   "metadata": {},
   "outputs": [],
   "source": []
  }
 ],
 "metadata": {
  "kernelspec": {
   "display_name": "Python 3",
   "language": "python",
   "name": "python3"
  },
  "language_info": {
   "codemirror_mode": {
    "name": "ipython",
    "version": 3
   },
   "file_extension": ".py",
   "mimetype": "text/x-python",
   "name": "python",
   "nbconvert_exporter": "python",
   "pygments_lexer": "ipython3",
   "version": "3.6.5"
  }
 },
 "nbformat": 4,
 "nbformat_minor": 2
}
